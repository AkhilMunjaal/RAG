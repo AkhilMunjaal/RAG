{
 "cells": [
  {
   "cell_type": "code",
   "execution_count": null,
   "metadata": {},
   "outputs": [],
   "source": [
    "! pip install ollama"
   ]
  },
  {
   "cell_type": "code",
   "execution_count": 22,
   "metadata": {},
   "outputs": [],
   "source": [
    "import ollama\n",
    "import numpy as np\n",
    "import os \n",
    "import time\n",
    "import json\n",
    "from numpy.linalg import norm"
   ]
  },
  {
   "cell_type": "code",
   "execution_count": null,
   "metadata": {},
   "outputs": [],
   "source": [
    "### Intention of this exercise is to use only python to do RAG :\n",
    "### No use of Vector DBs, Lnagchain, LlamaIndex."
   ]
  },
  {
   "cell_type": "code",
   "execution_count": 8,
   "metadata": {},
   "outputs": [],
   "source": [
    "# Step 1 : Parse the text file into chunks (currently only txt is supported)\n",
    "# Also, the text split is based on new line, the context remains short and less informative, try overlapping + larger context\n",
    "\n",
    "def parse_file(filename):\n",
    "    with open(filename, encoding=\"utf-8-sig\") as f:\n",
    "        paragraphs = []\n",
    "        buffer = []\n",
    "        \n",
    "        for line in f:\n",
    "            line = line.strip()\n",
    "            if line:\n",
    "                buffer.append(line)\n",
    "            else:\n",
    "                if buffer:\n",
    "                    paragraphs.append(\" \".join(buffer))\n",
    "                    buffer = []\n",
    "        \n",
    "        if buffer:\n",
    "            paragraphs.append(\" \".join(buffer))\n",
    "    \n",
    "    return paragraphs"
   ]
  },
  {
   "cell_type": "code",
   "execution_count": 27,
   "metadata": {},
   "outputs": [],
   "source": [
    "# Step 2 : Create and save embeddings\n",
    "# download model using ollama pull mxbai-embed-large\n",
    "# We need not create embeddings everytime for the same file - save_embeddings \n",
    "\n",
    "def save_embeddings(filename, embeddings):\n",
    "    if not os.path.exists(\"embeddings\"):\n",
    "        os.makedirs(\"embeddings\")\n",
    "    with open(f\"embeddings/{filename}.json\", \"w\") as f:\n",
    "        json.dump(embeddings, f)\n",
    "\n",
    "\n",
    "def load_embeddings(filename):\n",
    "    # check if file exists\n",
    "    if not os.path.exists(f\"embeddings/{filename}.json\"):\n",
    "        return False\n",
    "    # load embeddings from json\n",
    "    with open(f\"embeddings/{filename}.json\", \"r\") as f:\n",
    "        return json.load(f)\n",
    "\n",
    "\n",
    "def create_embeddings(filename, text_chunks, modelname):\n",
    "\n",
    "    if (embeddings := load_embeddings(filename)) is not False:\n",
    "        return embeddings\n",
    "    embeddings = [\n",
    "            ollama.embeddings(model=modelname, prompt=chunk)[\"embedding\"]\n",
    "            for chunk in text_chunks\n",
    "        ]\n",
    "    save_embeddings(filename, embeddings)\n",
    "    return embeddings"
   ]
  },
  {
   "cell_type": "code",
   "execution_count": 28,
   "metadata": {},
   "outputs": [],
   "source": [
    "# Step 3 : Retrieval: find cosine similarity of every embedding to a given query embedding and get top 5 docs.\n",
    "\n",
    "def find_most_similar(query, context):\n",
    "    query_norm = norm(query)\n",
    "    similarity_scores = [\n",
    "        np.dot(query, item) / (query_norm * norm(item)) for item in context\n",
    "    ]\n",
    "    return sorted(zip(similarity_scores, range(len(context))), reverse=True)"
   ]
  },
  {
   "cell_type": "code",
   "execution_count": 29,
   "metadata": {},
   "outputs": [],
   "source": [
    "SYSTEM_PROMPT = \"\"\"\n",
    "\n",
    "You are a highly knowledgeable and concise reading assistant. Your task is to answer questions based strictly on the context provided. \n",
    "\n",
    "Guidelines:\n",
    "1. **Answer within the context:** Provide responses solely based on the information within the snippets. Do not infer or assume details beyond the provided context.\n",
    "2. **Be concise:** Offer clear and succinct answers. Aim for brevity while ensuring completeness.\n",
    "3. **Admit when uncertain:** If the context does not contain the answer or if you're unsure, clearly state, \"I don't know based on the provided context.\"\n",
    "\n",
    "Context:\n",
    "\n",
    "\n",
    "\"\"\"\n"
   ]
  },
  {
   "cell_type": "code",
   "execution_count": 43,
   "metadata": {},
   "outputs": [],
   "source": [
    "def process():\n",
    "    filename = 'advs.txt'\n",
    "    text_chunks = parse_file(filename=filename)\n",
    "    embeddings = create_embeddings(filename, text_chunks, modelname='mxbai-embed-large')\n",
    "    query = 'Who is Dr. Watson ?'\n",
    "\n",
    "    query_embedding = ollama.embeddings(model=\"mxbai-embed-large\", prompt=query)[\"embedding\"]\n",
    "    most_similar_chunks = find_most_similar(query_embedding, embeddings)[:5]\n",
    "\n",
    "    messages=[\n",
    "            {\n",
    "                \"role\": \"system\",\n",
    "                \"content\": SYSTEM_PROMPT\n",
    "                + \"\\n\".join(text_chunks[item[1]] for item in most_similar_chunks),\n",
    "            },\n",
    "            {\"role\": \"user\", \"content\": query},\n",
    "        ]\n",
    "\n",
    "    response = ollama.chat(\n",
    "        model=\"llama3\",\n",
    "        messages=messages,\n",
    "    )\n",
    "\n",
    "    print(messages)\n",
    "\n",
    "    print(\"\\n\\n\")\n",
    "    print(response[\"message\"][\"content\"])"
   ]
  },
  {
   "cell_type": "code",
   "execution_count": 44,
   "metadata": {},
   "outputs": [
    {
     "name": "stdout",
     "output_type": "stream",
     "text": [
      "[{'role': 'system', 'content': '\\n\\nYou are a highly knowledgeable and concise reading assistant. Your task is to answer questions based strictly on the context provided. \\n\\nGuidelines:\\n1. **Answer within the context:** Provide responses solely based on the information within the snippets. Do not infer or assume details beyond the provided context.\\n2. **Be concise:** Offer clear and succinct answers. Aim for brevity while ensuring completeness.\\n3. **Admit when uncertain:** If the context does not contain the answer or if you\\'re unsure, clearly state, \"I don\\'t know based on the provided context.\"\\n\\nContext:\\n\\n\\n\"What do you make of that, Watson?\"\\n\"This is my friend, Dr. Watson. He has been of most vital use to me in several of my cases, and a lucky chance has made it possible for me to bring him out and associate him with this investigation.\"\\n\"Awake, Watson?\" he asked.\\n\"Pray take a seat,\" said Holmes. \"This is my friend and colleague, Dr. Watson, who is occasionally good enough to help me in my cases. Whom have I the honour to address?\"\\n\"The doctor?\"'}, {'role': 'user', 'content': 'Who is Dr. Watson ?'}]\n",
      "\n",
      "\n",
      "\n",
      "Dr. Watson is Sherlock Holmes' friend and colleague, who helps him in his cases.\n"
     ]
    }
   ],
   "source": [
    "process()"
   ]
  },
  {
   "cell_type": "code",
   "execution_count": null,
   "metadata": {},
   "outputs": [],
   "source": []
  }
 ],
 "metadata": {
  "kernelspec": {
   "display_name": "Python 3",
   "language": "python",
   "name": "python3"
  },
  "language_info": {
   "codemirror_mode": {
    "name": "ipython",
    "version": 3
   },
   "file_extension": ".py",
   "mimetype": "text/x-python",
   "name": "python",
   "nbconvert_exporter": "python",
   "pygments_lexer": "ipython3",
   "version": "3.9.6"
  }
 },
 "nbformat": 4,
 "nbformat_minor": 2
}
